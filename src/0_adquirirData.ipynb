{
 "cells": [
  {
   "cell_type": "code",
   "execution_count": 11,
   "metadata": {},
   "outputs": [],
   "source": [
    "import json\n",
    "import requests"
   ]
  },
  {
   "cell_type": "code",
   "execution_count": 12,
   "metadata": {},
   "outputs": [],
   "source": [
    "url_x = 'http://api.tvmaze.com/schedule/web?date='"
   ]
  },
  {
   "cell_type": "code",
   "execution_count": 13,
   "metadata": {},
   "outputs": [
    {
     "name": "stdout",
     "output_type": "stream",
     "text": [
      "El json fue almacenado con el nombre de datos_2024-01-01\n",
      "Elementos en el json: 189\n",
      "El json fue almacenado con el nombre de datos_2024-01-02\n",
      "Elementos en el json: 142\n",
      "El json fue almacenado con el nombre de datos_2024-01-03\n",
      "Elementos en el json: 109\n",
      "El json fue almacenado con el nombre de datos_2024-01-04\n",
      "Elementos en el json: 175\n",
      "El json fue almacenado con el nombre de datos_2024-01-05\n",
      "Elementos en el json: 156\n",
      "El json fue almacenado con el nombre de datos_2024-01-06\n",
      "Elementos en el json: 66\n",
      "El json fue almacenado con el nombre de datos_2024-01-07\n",
      "Elementos en el json: 68\n",
      "El json fue almacenado con el nombre de datos_2024-01-08\n",
      "Elementos en el json: 211\n",
      "El json fue almacenado con el nombre de datos_2024-01-09\n",
      "Elementos en el json: 131\n",
      "El json fue almacenado con el nombre de datos_2024-01-10\n",
      "Elementos en el json: 164\n",
      "El json fue almacenado con el nombre de datos_2024-01-11\n",
      "Elementos en el json: 232\n",
      "El json fue almacenado con el nombre de datos_2024-01-12\n",
      "Elementos en el json: 175\n",
      "El json fue almacenado con el nombre de datos_2024-01-13\n",
      "Elementos en el json: 70\n",
      "El json fue almacenado con el nombre de datos_2024-01-14\n",
      "Elementos en el json: 79\n",
      "El json fue almacenado con el nombre de datos_2024-01-15\n",
      "Elementos en el json: 160\n",
      "El json fue almacenado con el nombre de datos_2024-01-16\n",
      "Elementos en el json: 121\n",
      "El json fue almacenado con el nombre de datos_2024-01-17\n",
      "Elementos en el json: 169\n",
      "El json fue almacenado con el nombre de datos_2024-01-18\n",
      "Elementos en el json: 217\n",
      "El json fue almacenado con el nombre de datos_2024-01-19\n",
      "Elementos en el json: 268\n",
      "El json fue almacenado con el nombre de datos_2024-01-20\n",
      "Elementos en el json: 90\n",
      "El json fue almacenado con el nombre de datos_2024-01-21\n",
      "Elementos en el json: 100\n",
      "El json fue almacenado con el nombre de datos_2024-01-22\n",
      "Elementos en el json: 200\n",
      "El json fue almacenado con el nombre de datos_2024-01-23\n",
      "Elementos en el json: 133\n",
      "El json fue almacenado con el nombre de datos_2024-01-24\n",
      "Elementos en el json: 179\n",
      "El json fue almacenado con el nombre de datos_2024-01-25\n",
      "Elementos en el json: 214\n",
      "El json fue almacenado con el nombre de datos_2024-01-26\n",
      "Elementos en el json: 302\n",
      "El json fue almacenado con el nombre de datos_2024-01-27\n",
      "Elementos en el json: 92\n",
      "El json fue almacenado con el nombre de datos_2024-01-28\n",
      "Elementos en el json: 89\n",
      "El json fue almacenado con el nombre de datos_2024-01-29\n",
      "Elementos en el json: 157\n",
      "El json fue almacenado con el nombre de datos_2024-01-30\n",
      "Elementos en el json: 160\n",
      "El json fue almacenado con el nombre de datos_2024-01-31\n",
      "Elementos en el json: 169\n"
     ]
    }
   ],
   "source": [
    "for x in range(1,32):\n",
    "    \n",
    "    x = str(x) if x >= 10 else '0'+str(x)\n",
    "    date_var = f'2024-01-{x}'\n",
    "    url = url_x + date_var\n",
    "    responseTVMAZE = requests.get(url)\n",
    "    \n",
    "    if responseTVMAZE.status_code == 200:\n",
    "        data = responseTVMAZE.json()\n",
    "        with open(f'../json/datos_{date_var}.json', 'w', encoding='utf-8') as archivo:\n",
    "            json.dump(data, archivo, indent=2, ensure_ascii=False)\n",
    "            print(f'El json fue almacenado con el nombre de datos_{date_var}')\n",
    "            print(f'Elementos en el json: {len(data)}') "
   ]
  }
 ],
 "metadata": {
  "kernelspec": {
   "display_name": "Python 3",
   "language": "python",
   "name": "python3"
  },
  "language_info": {
   "codemirror_mode": {
    "name": "ipython",
    "version": 3
   },
   "file_extension": ".py",
   "mimetype": "text/x-python",
   "name": "python",
   "nbconvert_exporter": "python",
   "pygments_lexer": "ipython3",
   "version": "3.12.3"
  }
 },
 "nbformat": 4,
 "nbformat_minor": 2
}
